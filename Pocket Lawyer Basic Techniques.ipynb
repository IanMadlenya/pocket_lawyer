{
 "cells": [
  {
   "cell_type": "markdown",
   "metadata": {},
   "source": [
    " "
   ]
  },
  {
   "cell_type": "markdown",
   "metadata": {},
   "source": [
    "<center>\n",
    "<h1><b>Pocket Lawyer: Basic Techniques</h1>\n",
    "</center>"
   ]
  },
  {
   "cell_type": "markdown",
   "metadata": {},
   "source": [
    "<h2>Intro:</h2>\n",
    "\n",
    "This notebook details some of the algorithms that power the Pocket Lawyer app, available online <a href=\"http://pocketlawyer.maxfarago.com\">here</a>.  In addition to these, the app also uses a number of more advanced algorithms including geolocation, custom text pre-processing, and multiple layers of classification and vector comparison.  Only the basic techniques are discussed here in order to keep the notebook brief and clear."
   ]
  },
  {
   "cell_type": "markdown",
   "metadata": {},
   "source": [
    "## Goal:\n",
    "To retrieve and display laws and legal encyclopedia articles that are relevant to, and potentially answer, any law-related question."
   ]
  },
  {
   "cell_type": "markdown",
   "metadata": {},
   "source": [
    "## Process:\n",
    "\n",
    "The basic idea is to categorize a user's question into an area of the law, *e.g.*, **Family Law.**  Once that section is predicted, the question is compared to state statutes and articles within that particular area of the law. The most relevant statutes and articles are then returned for the user.\n",
    "\n",
    "The project uses three main data sets, each scraped from publicly available online sources and stored in its own NoSQL database:\n",
    "- posts from an online message board\n",
    "- state and federal laws\n",
    "- legal encyclopedia articles\n",
    "\n",
    "The laws and articles are already categorized by the sources they are retrieved from, and that categorization can be preserved while scraping.  Each law and article document in the databases stores this `'section'` data given to it by the source.\n",
    "\n",
    "To categorize the user's question, a multi-class model is trained using the forum posts.  Message boards are generally categorized by the type of posts they contain, and the model is essentialy predicting where a user would choose to place their legal question had they posted it on the message board.\n",
    "\n",
    "The benefit of this approach is that the user's question is compared to the natural language of the forum rather than the formal language of the laws or articles."
   ]
  },
  {
   "cell_type": "markdown",
   "metadata": {},
   "source": [
    "## Steps:\n",
    "<a href=\"#step1\">1. Data Retrieval and Storage</a>\n",
    "<br>\n",
    "<a href=\"#step2\">2. Text Preprocessing</a>\n",
    "<br>\n",
    "<a href=\"#step3\">3. Vectorization</a>\n",
    "<br>\n",
    "<a href=\"#step4\">4. Machine Learning</a>\n",
    "<br>\n",
    "<a href=\"#step5\">5. Cosine Similarity</a>"
   ]
  },
  {
   "cell_type": "markdown",
   "metadata": {},
   "source": [
    "<hr />\n",
    "<a name='step1'></a><center><b><font size='5em'>Step 1: Data Retrieval and Storage</center>\n",
    "<hr />"
   ]
  },
  {
   "cell_type": "markdown",
   "metadata": {},
   "source": [
    "Throughout this project I use <a href=\"https://www.mongodb.com/\">MongoDB</a>, a popular NoSQL database, and <a href=\"https://api.mongodb.com/python/current/\">Pymongo</a>, a Python package used to manipulate Mongo databases within a Python script. This project uses locally stored Mongo databases, accessed using a Pymongo client directed at the MongoDB port on `localhost`."
   ]
  },
  {
   "cell_type": "code",
   "execution_count": 1,
   "metadata": {
    "collapsed": false
   },
   "outputs": [],
   "source": [
    "from pymongo import MongoClient\n",
    "client = MongoClient('localhost')"
   ]
  },
  {
   "cell_type": "markdown",
   "metadata": {},
   "source": [
    "<hr />\n",
    "<a name=\"#step1a\"></a>__Step 1a: Forum Posts__<br>\n",
    "I chose to scrape legal-related posts from the <a href=\"http://boards.answers.findlaw.com/\">FindLaw</a> message boards, where users post their legal questions and others respond with their advice.  Only the original post is scraped, not the response posts, with the rationale that the first post's text contains the actual question beneath the thread.  \n",
    "\n",
    "The forum divides its threads into sections; these sections will be the basis for the `collections` of the database.  The data is stored in a database named `POSTS`, which uses the forum sections as collections.  This gives each MongoDB document the following structure:\n",
    "\n",
    "    {\n",
    "        'title': postTitle,\n",
    "        'text': postText,\n",
    "    }\n",
    "\n",
    "Again, there is no need for a separate `'section'` field: the collection name indicates the section the thread was placed within on the forum.\n",
    "\n",
    "<br>\n",
    "\n",
    "__Step 1b: Legal Encyclopedia__<br>\n",
    "I chose <a href=\"http://www.nolo.com/legal-encyclopedia\">Nolo</a> as my \"legal encyclopedia\" because (1) it categorizes its articles similarly to how FindLaw categorizes its threads; (2) it's comprehensive, containing quality legal articles on virtually every area of law that exist; (3) the articles are written in the format of answers to example legal questions.  \n",
    "\n",
    "Nolo breaks its articles into approximately 20 different areas of law.  These will serve as the collections which the `ARTICLES` database is broken up into. Consider <a href=\"http://www.nolo.com/legal-encyclopedia/damages-how-much-personal-injury-32264.html\">this article</a> on personal injury law as an example.  Scraping the title, text, and URL of the page will create a MongoDB document structured in this way:\n",
    "\n",
    "    {\n",
    "        'title': 'Damages: How Much is a Personal Injury Case Worth?',\n",
    "        'url': 'http://www.nolo.com/legal-encyclopedia/damages-how-much-personal-injury-32264.html'\n",
    "        'text': 'If you're considering filing a personal injury lawsuit over a car accident...'\n",
    "    }\n",
    "        \n",
    "Again, the `'section'` data is stored in the collection name, not in a document field for each article.\n",
    "\n",
    "<br>\n",
    "\n",
    "__Step 1c: State Laws__<br>\n",
    "To retrieve state and federal laws, I chose <a href=\"http://law.justia.com/codes/\">Justia</a>.  States categorize their laws in different ways and using widely varying nomenclature, but Justia does a nice job of keeping the hierarchies relatively consistent, which makes a huge difference when scraping the data.  \n",
    "\n",
    "Because the organization of statutes varies so much by state, and the app will only be retrieving laws from the state the user is in, the database of laws is divided into collections organized by state rather than by section.  \n",
    "\n",
    "<a name=\"lawExample\" href=\"http://law.justia.com/codes/new-york/2015/cpl/part-2/title-m/article-450/450.30/\">Take a look at this statute as an example.</a>  Above the law's text, in large bold font, is the entire hierarchy path for reaching it, starting with the root node (\"2015 New York Laws\") and ending with the title of the law itself (\"450.30 - Appeal from sentence.\").  This entire path, as well as the page URL and the text of the statute, is stored in the database, such that each MongoDB document is structured in this way:\n",
    "\n",
    "    {\n",
    "        \"text\" : \"450.30  Appeal from sentence.  An  appeal  by  the  defendant... \",\n",
    "        \"section\" : [\n",
    "            \"2015 New York Laws\",\n",
    "            \"CPL - Criminal Procedure\",\n",
    "            \"Part 2 - THE PRINCIPAL PROCEEDINGS\",\n",
    "            \"Title M - PROCEEDINGS AFTER JUDGMENT\",\n",
    "            \"Article 450 - (450.10 - 450.90) APPEALS--IN WHAT CASES AUTHORIZED AND TO WHAT COURTS TAKEN\",\n",
    "            \"450.30 - Appeal from sentence.\"\n",
    "        ],\n",
    "        \"url\" : \"http://law.justia.com/codes/new-york/2015/cpl/part-2/title-m/article-450/450.30/index.html\"\n",
    "    }\n",
    "\n",
    "Note that unlike the posts and articles, the laws have a `'section'` field in order to store the entire hierarchy path with a list of strings.  This makes the app more versatile, as it can search statutes by section either broadly or narrowly.  The `LAWS` database is organized into collections by state rather than by section."
   ]
  },
  {
   "cell_type": "markdown",
   "metadata": {},
   "source": [
    "<hr />\n",
    "<a name=\"step2\"></a><center><b><font size='5em'>Step 2: Text Preprocessing</center>\n",
    "<hr />"
   ]
  },
  {
   "cell_type": "markdown",
   "metadata": {},
   "source": [
    "After scraping, three separate databases of documents are created, containing very different bodies of text. To analyze them meaningfully, each document's text is broken down into its individual words, *i.e.*, tokenizing by word.  This allows each text to be vectorized by word counts.\n",
    "\n",
    "__Step 2a: Create Corpus Cleaning Functions__\n",
    "\n",
    "Two functions are created to process the text scraped into the databases.  The first (`cleanText`) strips text of non-letter symbols and lowercases all the characters.  The second (`getTokens`) takes that cleaned string of text, removes the insignificant words in it, and *stems* the remaining significant ones.\n",
    "\n",
    "<a href=\"https://en.wikipedia.org/wiki/Stemming\">Stemming</a> improves vectorization by grouping together words of the same root, and thus the same root meaning, rather than treating them as separate words."
   ]
  },
  {
   "cell_type": "code",
   "execution_count": 16,
   "metadata": {
    "collapsed": true
   },
   "outputs": [],
   "source": [
    "def cleanText(text):\n",
    "    symbols = ['\\n', '\\r', '\\u', '\\u201', 'Nolo.com', 'nolo.com']\n",
    "    punctuation = '!\"#$%&\\'()*+,-./:;<=>?@[\\\\]^_`{|}~'\n",
    "    numbers = [ str(x) for x in range(10) ]\n",
    "    \n",
    "    for s in symbols:\n",
    "        text = text.replace(s, ' ')\n",
    "    for p in punctuation:\n",
    "        text = text.replace(p, '')\n",
    "    for n in numbers:\n",
    "        text = text.replace(n, '')\n",
    "\n",
    "    return text.lower()"
   ]
  },
  {
   "cell_type": "markdown",
   "metadata": {},
   "source": [
    "The <a href=\"http://www.nltk.org/\">Natural Language Toolkit (NLTK)</a> package has a function that stems via the <a href=\"https://tartarus.org/martin/PorterStemmer/\">Porter algorithm</a>, and one that tokenizes by word.  These are imported and used here.  NLTK also conveniently has a list of <a href=\"https://en.wikipedia.org/wiki/Stop_words\">stop words</a> that can be easily imported and used for text processing."
   ]
  },
  {
   "cell_type": "code",
   "execution_count": 17,
   "metadata": {
    "collapsed": true
   },
   "outputs": [],
   "source": [
    "from nltk.stem.porter import PorterStemmer\n",
    "from nltk.tokenize import word_tokenize\n",
    "from nltk.corpus import stopwords\n",
    "\n",
    "def getTokens(text):\n",
    "    tokens = word_tokenize(cleanText(text))\n",
    "    return ' '.join([ PorterStemmer().stem(w) for w in tokens if w not in stopwords.words('english') ])"
   ]
  },
  {
   "cell_type": "markdown",
   "metadata": {},
   "source": [
    "__Step 2b: Apply functions to databases__\n",
    "\n",
    "Down the road it might be convenient for each post, law, and article document to store its tokens as well as its text.  To that end, the databases are traversed and a `'tokens'` field is inserted for each document, storing the result of the document's `'text'` field run through the preprocessing functions."
   ]
  },
  {
   "cell_type": "code",
   "execution_count": 119,
   "metadata": {
    "collapsed": false
   },
   "outputs": [],
   "source": [
    "for database in client.database_names():\n",
    "    db = client[database]\n",
    "    for collection in db.collection_names():\n",
    "        for doc in db[collection].find():\n",
    "            db[collection].update_one({ '_id':doc['_id'] }, { '$set': { 'tokens':getTokens(doc['text']) } })"
   ]
  },
  {
   "cell_type": "markdown",
   "metadata": {},
   "source": [
    "The `Pymongo` command `update_one()` requires a way to locate the document to update.  Here, the `_id` value — a unique ID given to each document by MongoDB during insertion into the database — is used to locate the document.  The `_id` value is found by going through the database, one document at a time, accessing each document's `_id`, and then performing the update.\n",
    "\n",
    "There's a lot of looping going on here: the first `for` loop traverses all the databases in the client; the second traverses the collections in each database; the third traverses the documents in each collection by using a non-specific `find()` query for each collection."
   ]
  },
  {
   "cell_type": "markdown",
   "metadata": {},
   "source": [
    "<hr />\n",
    "<a name=\"#step3\"></a><center><b><font size='5em'>Step 3: Vectorization</center>\n",
    "<hr />"
   ]
  },
  {
   "cell_type": "markdown",
   "metadata": {},
   "source": [
    "Once all the text has been tokenized by word, each document can be vectorized into a word count.  <a href=\"https://en.wikipedia.org/wiki/Tf%E2%80%93idf\">TF-IDF weighting</a> proves especially effective here, because law-related texts frequently contain key words that have great importance for a particular area of law, but are rarely used in any other areas.\n",
    "\n",
    "As an example, take a look at the statute <a href=\"#lawExample\">used earlier</a>.  The first sentence of the statute tells us a lot about it:\n",
    "\n",
    "    An  appeal  by  the  defendant from a sentence, as authorized by  subdivision two of section 450.10, may be based  upon  the  ground  that  such sentence either was (a) invalid as a matter of law, or (b) harsh or excessive.\n",
    "    \n",
    "Running this sentence through the `getTokens` function creates a list of these stemmed words:\n",
    "\n",
    "    [ \"appeal\", \"defend\", \"sentenc\", \"author\", \"subdivis\", \"two\", \"section\", \"may\", \"base\", \"upon\",\n",
    "    \"ground\", \"sentenc\", \"either\", \"invalid\", \"matter\", \"law\", \"harsh\", \"excess\" ]\n",
    "\n",
    "The first word, `appeal`, tells us that a legal issue has been ruled on, and suggests the statute is looking *after* the ruling temporally.  The word `sentence` indicates that the statute has to do with *criminal* law — it's specifically used in the law to refer to punishment in criminal cases.  Those two words alone tell us that the statute concerns a post-judgment issue in a criminal case.  \n",
    "\n",
    "These words rarely occur together in the context of family law, bankruptcy law, or any other area of law.  The consistent usage of the same words and phrases in the legal profession to indicate **only** specific times and places within the law is what makes TF-IDF weighting so powerful in this context."
   ]
  },
  {
   "cell_type": "code",
   "execution_count": 14,
   "metadata": {
    "collapsed": true
   },
   "outputs": [],
   "source": [
    "from sklearn.feature_extraction.text import TfidfVectorizer"
   ]
  },
  {
   "cell_type": "markdown",
   "metadata": {},
   "source": [
    "The <a href=\"http://scikit-learn.org/stable/\">scikit-learn</a> package contains a `TfidfVectorizer` object that vectorizes text into word counts and simultaneously applies TF-IDF weighting.  The result is a matrix whose rows represent the vectors of the individual documents, with a column for each unique token in the total \"vocabulary\" of the data set.  Scikit-learn has great <a href=\"http://scikit-learn.org/stable/modules/generated/sklearn.feature_extraction.text.TfidfVectorizer.html\">documentation</a> on the vectorizer (and on the package in general), and it's worth going through.\n",
    "\n",
    "<a name=\"step3a\"></a>__Step 3a: Vectorizing Forum Posts__\n",
    "\n",
    "A vectorizer `postTIV` is fitted with a list of the `'tokens'` value of every post in the database.  The `postTIV` vectorizer will be used to transform the user's question.  The `fit_transform` method simultaneously returns the vectorized posts into `X`, which will be used to train the classifier in <a href=\"#step4\">Step 4</a>."
   ]
  },
  {
   "cell_type": "code",
   "execution_count": 19,
   "metadata": {
    "collapsed": false
   },
   "outputs": [],
   "source": [
    "db = client[\"POSTS\"]   # Now working in the POSTS database\n",
    "\n",
    "postTokens = [ x['tokens'] for collection in db.collection_names() for x in db[collection].find() ]\n",
    "\n",
    "postTIV = TfidfVectorizer(max_features=10000, lowercase=False)\n",
    "X = postTIV.fit_transform(postTokens)\n",
    "X.shape"
   ]
  },
  {
   "cell_type": "markdown",
   "metadata": {},
   "source": [
    "`TfidfVectorizer` has many parameters that can be passed to it.  For this example, `max_features` is set to `10000`, which limits the matrix to 10,000 columns representing only the most common words used in the text of the posts."
   ]
  },
  {
   "cell_type": "code",
   "execution_count": 193,
   "metadata": {
    "collapsed": false
   },
   "outputs": [
    {
     "data": {
      "text/plain": [
       "scipy.sparse.csr.csr_matrix"
      ]
     },
     "execution_count": 193,
     "metadata": {},
     "output_type": "execute_result"
    }
   ],
   "source": [
    "type(X)"
   ]
  },
  {
   "cell_type": "markdown",
   "metadata": {},
   "source": [
    "Since each post uses only a small percentage of the 10,000 words in the total corpus vocabulary, the vast majority of values calculated by the vectorizer are going to be zeros.  To take advantage of this, a SciPy <a href=\"https://en.wikipedia.org/wiki/Sparse_matrix\">sparse matrix</a> is used to store the data, generating much smaller filesizes and shorter load times."
   ]
  },
  {
   "cell_type": "code",
   "execution_count": 17,
   "metadata": {
    "collapsed": true
   },
   "outputs": [],
   "source": [
    "import cPickle as pickle\n",
    "pickle.dump(postTIV, open('postTIV.pkl', 'wb'))"
   ]
  },
  {
   "cell_type": "markdown",
   "metadata": {},
   "source": [
    "The vectorizer is pickled so that it can be loaded when a user submits a question and used to transform the input."
   ]
  },
  {
   "cell_type": "markdown",
   "metadata": {},
   "source": [
    "__Step 3b: Vectorizing State Law Sections__\n",
    "\n",
    "Once a user's question is categorized, it needs to be compared against the state laws.  The `postTIV` vectorizer transforms the user question using the vocabulary of the posts.  To be compared to the laws, it needs to be transformed again with a vectorizer fitted with the vocabulary of the state code.\n",
    "\n",
    "Instead of creating a vectorizer for the entire set of state statutes, separate vectorizers are created for the different sections of the laws that correspond with the forum subsections.  Since the forum sections are not exactly the same as the statute sections, the connection has to be mapped manually and is stored in a dictionary.  The dictionary is kept in a `.txt` file for each state; this is what the forum -> laws section mapping looks like for Maryland:\n",
    "\n",
    "    {\n",
    "        \"After Sentencing\": ([\"Title 7 - UNIFORM POSTCONVICTION PROCEDURE ACT\",\n",
    "                            \"Title 10 - CRIMINAL RECORDS\",\n",
    "                            \"Title 8 - OTHER POSTCONVICTION REVIEW\"]),\n",
    "\n",
    "        \"Auto Accidents\":\t([ \"Title 20 - MARYLAND AUTOMOBILE INSURANCE FUND\",\n",
    "                            \"TRANSPORTATION\",\n",
    "                            \"Subtitle 1 - LIMITATIONS\",\n",
    "                            \"Title 20 - VEHICLE LAWS -- ACCIDENTS AND ACCIDENT REPORTS\" ]),\n",
    "        ...\n",
    "    }\n",
    "    \n",
    "The `key:value` format is structured `forum-section:law-section-list` — this allows multiple sections of the state code to be mapped against each forum-section.  Now we can traverse the dictionary and create a vectorizer for each `key` value that represents a forum-section, fitting the vectorizer using only the laws that contain the one of the law-section values in their hierarchy path.  That was the path stored in the `'section'` field of the `LAWS` database documents during scraping."
   ]
  },
  {
   "cell_type": "code",
   "execution_count": 18,
   "metadata": {
    "collapsed": false
   },
   "outputs": [
    {
     "ename": "ValueError",
     "evalue": "empty vocabulary; perhaps the documents only contain stop words",
     "output_type": "error",
     "traceback": [
      "\u001b[0;31m---------------------------------------------------------------------------\u001b[0m",
      "\u001b[0;31mValueError\u001b[0m                                Traceback (most recent call last)",
      "\u001b[0;32m<ipython-input-18-3cd5f7cc1f5d>\u001b[0m in \u001b[0;36m<module>\u001b[0;34m()\u001b[0m\n\u001b[1;32m      9\u001b[0m \u001b[0;34m\u001b[0m\u001b[0m\n\u001b[1;32m     10\u001b[0m         \u001b[0mtempTIV\u001b[0m \u001b[0;34m=\u001b[0m \u001b[0mTfidfVectorizer\u001b[0m\u001b[0;34m(\u001b[0m\u001b[0mlowercase\u001b[0m\u001b[0;34m=\u001b[0m\u001b[0mFalse\u001b[0m\u001b[0;34m)\u001b[0m\u001b[0;34m\u001b[0m\u001b[0m\n\u001b[0;32m---> 11\u001b[0;31m         \u001b[0mtempX\u001b[0m \u001b[0;34m=\u001b[0m \u001b[0mtempTIV\u001b[0m\u001b[0;34m.\u001b[0m\u001b[0mfit_transform\u001b[0m\u001b[0;34m(\u001b[0m\u001b[0mlawSectionTokens\u001b[0m\u001b[0;34m)\u001b[0m\u001b[0;34m\u001b[0m\u001b[0m\n\u001b[0m\u001b[1;32m     12\u001b[0m         \u001b[0mlaw_pkl\u001b[0m \u001b[0;34m=\u001b[0m \u001b[0;34m(\u001b[0m\u001b[0mtempTIV\u001b[0m\u001b[0;34m,\u001b[0m \u001b[0mtempX\u001b[0m\u001b[0;34m)\u001b[0m\u001b[0;34m\u001b[0m\u001b[0m\n\u001b[1;32m     13\u001b[0m \u001b[0;34m\u001b[0m\u001b[0m\n",
      "\u001b[0;32m/Users/maxAir/anaconda2/lib/python2.7/site-packages/sklearn/feature_extraction/text.pyc\u001b[0m in \u001b[0;36mfit_transform\u001b[0;34m(self, raw_documents, y)\u001b[0m\n\u001b[1;32m   1303\u001b[0m             \u001b[0mTf\u001b[0m\u001b[0;34m-\u001b[0m\u001b[0midf\u001b[0m\u001b[0;34m-\u001b[0m\u001b[0mweighted\u001b[0m \u001b[0mdocument\u001b[0m\u001b[0;34m-\u001b[0m\u001b[0mterm\u001b[0m \u001b[0mmatrix\u001b[0m\u001b[0;34m.\u001b[0m\u001b[0;34m\u001b[0m\u001b[0m\n\u001b[1;32m   1304\u001b[0m         \"\"\"\n\u001b[0;32m-> 1305\u001b[0;31m         \u001b[0mX\u001b[0m \u001b[0;34m=\u001b[0m \u001b[0msuper\u001b[0m\u001b[0;34m(\u001b[0m\u001b[0mTfidfVectorizer\u001b[0m\u001b[0;34m,\u001b[0m \u001b[0mself\u001b[0m\u001b[0;34m)\u001b[0m\u001b[0;34m.\u001b[0m\u001b[0mfit_transform\u001b[0m\u001b[0;34m(\u001b[0m\u001b[0mraw_documents\u001b[0m\u001b[0;34m)\u001b[0m\u001b[0;34m\u001b[0m\u001b[0m\n\u001b[0m\u001b[1;32m   1306\u001b[0m         \u001b[0mself\u001b[0m\u001b[0;34m.\u001b[0m\u001b[0m_tfidf\u001b[0m\u001b[0;34m.\u001b[0m\u001b[0mfit\u001b[0m\u001b[0;34m(\u001b[0m\u001b[0mX\u001b[0m\u001b[0;34m)\u001b[0m\u001b[0;34m\u001b[0m\u001b[0m\n\u001b[1;32m   1307\u001b[0m         \u001b[0;31m# X is already a transformed view of raw_documents so\u001b[0m\u001b[0;34m\u001b[0m\u001b[0;34m\u001b[0m\u001b[0m\n",
      "\u001b[0;32m/Users/maxAir/anaconda2/lib/python2.7/site-packages/sklearn/feature_extraction/text.pyc\u001b[0m in \u001b[0;36mfit_transform\u001b[0;34m(self, raw_documents, y)\u001b[0m\n\u001b[1;32m    815\u001b[0m \u001b[0;34m\u001b[0m\u001b[0m\n\u001b[1;32m    816\u001b[0m         vocabulary, X = self._count_vocab(raw_documents,\n\u001b[0;32m--> 817\u001b[0;31m                                           self.fixed_vocabulary_)\n\u001b[0m\u001b[1;32m    818\u001b[0m \u001b[0;34m\u001b[0m\u001b[0m\n\u001b[1;32m    819\u001b[0m         \u001b[0;32mif\u001b[0m \u001b[0mself\u001b[0m\u001b[0;34m.\u001b[0m\u001b[0mbinary\u001b[0m\u001b[0;34m:\u001b[0m\u001b[0;34m\u001b[0m\u001b[0m\n",
      "\u001b[0;32m/Users/maxAir/anaconda2/lib/python2.7/site-packages/sklearn/feature_extraction/text.pyc\u001b[0m in \u001b[0;36m_count_vocab\u001b[0;34m(self, raw_documents, fixed_vocab)\u001b[0m\n\u001b[1;32m    762\u001b[0m             \u001b[0mvocabulary\u001b[0m \u001b[0;34m=\u001b[0m \u001b[0mdict\u001b[0m\u001b[0;34m(\u001b[0m\u001b[0mvocabulary\u001b[0m\u001b[0;34m)\u001b[0m\u001b[0;34m\u001b[0m\u001b[0m\n\u001b[1;32m    763\u001b[0m             \u001b[0;32mif\u001b[0m \u001b[0;32mnot\u001b[0m \u001b[0mvocabulary\u001b[0m\u001b[0;34m:\u001b[0m\u001b[0;34m\u001b[0m\u001b[0m\n\u001b[0;32m--> 764\u001b[0;31m                 raise ValueError(\"empty vocabulary; perhaps the documents only\"\n\u001b[0m\u001b[1;32m    765\u001b[0m                                  \" contain stop words\")\n\u001b[1;32m    766\u001b[0m \u001b[0;34m\u001b[0m\u001b[0m\n",
      "\u001b[0;31mValueError\u001b[0m: empty vocabulary; perhaps the documents only contain stop words"
     ]
    }
   ],
   "source": [
    "db = client[\"LAWS\"]   # Now working in the LAWS database\n",
    "\n",
    "for state in db.collection_names():\n",
    "    f = open('queryToLaws/' + state + '.txt', 'r')\n",
    "    forumSections_to_lawSections = eval(f.read())\n",
    "\n",
    "    for forumSection in forumSections_to_lawSections.keys():\n",
    "        lawSectionTokens =  [ ' '.join(law['tokens']) for lawSection in forumSections_to_lawSections[forumSection] \\\n",
    "                            for law in db[state].find({ 'section':lawSection }) ]\n",
    "\n",
    "        tempTIV = TfidfVectorizer(lowercase=False)\n",
    "        tempX = tempTIV.fit_transform(lawSectionTokens)\n",
    "        law_pkl = (tempTIV, tempX)\n",
    "        \n",
    "        # Pickle law-section vectorizer and sparse matrix using forum-section as filename\n",
    "        for c in ' /&\\\\,.:':\n",
    "            filename = forumSection.replace(c, '')\n",
    "        pickle.dump(law_pkl, open('vectorizers/laws/' + state + '/' + filename + '.pkl', 'wb'))"
   ]
  },
  {
   "cell_type": "markdown",
   "metadata": {},
   "source": [
    "Like the post vectorizer, the individual law-section vectorizers are pickled to be loaded — if needed.  Unlike the post vectorizer, which transforms every user question, the law-section vectorizers only transform the user question if it has been placed classifier in the forum-section corresponding to the law-section.\n",
    "\n",
    "The sparse matrix containing the vectorized laws is pickled along with the vectorizer.  After vectorizing the user question, <a href=\"https://en.wikipedia.org/wiki/Cosine_similarity\">cosine similarity</a> is used to compare the vectorized question to the vectors of the sparse matrix in <a href=\"#step5\">Step 5</a>."
   ]
  },
  {
   "cell_type": "markdown",
   "metadata": {},
   "source": [
    "__Step 3c: Vectorizing Legal Articles__"
   ]
  },
  {
   "cell_type": "code",
   "execution_count": null,
   "metadata": {
    "collapsed": true
   },
   "outputs": [],
   "source": [
    "db = client[\"ARTICLES\"]   # Now working in the ARTICLES database\n",
    "\n",
    "f = open('forums_to_articles.txt', 'r')\n",
    "forumSections_to_articleSections = eval(f.read())\n",
    "\n",
    "for forumSection in forumSections_to_articleSections.keys():\n",
    "\n",
    "    articleTokens =  [ article['tokens'] for articleSection in forumSections_to_articleSections \\\n",
    "                     for article in db[articleSection].find() ]\n",
    "\n",
    "    tempTIV = TfidfVectorizer(lowercase=False)\n",
    "    tempX = tempTIV.fit_transform(articleTokens)\n",
    "    temp_pkl = (tempTIV, tempX)\n",
    "\n",
    "    # Pickle article-section vectorizer and sparse matrix using forum-section as filename\n",
    "    for c in ' /&\\\\,.:':\n",
    "        filename = forumSection.replace(c, '')\n",
    "    pickle.dump(temp_pkl, open('vectorizers/articles/' + filename + '.pkl', 'wb'))"
   ]
  },
  {
   "cell_type": "markdown",
   "metadata": {},
   "source": []
  },
  {
   "cell_type": "markdown",
   "metadata": {},
   "source": [
    "<hr />\n",
    "<a name=\"step4\"></a><center><b><font size='5em'>Step 4: Machine Learning</center>\n",
    "<hr />"
   ]
  },
  {
   "cell_type": "markdown",
   "metadata": {},
   "source": [
    "To train a classifier, labels are needed for the sparse matrix produced by vectorizing the forum posts in <a href=\"#step3a\">Step 3a</a>.  For this example, the name of the `collection` for each post is used.  In <a href=\"#step1a\">Step 1a</a> the `POSTS` database collections are created using the different sections of the forum, so this classifier will predict which forum-section a user question belongs in."
   ]
  },
  {
   "cell_type": "markdown",
   "metadata": {},
   "source": [
    "__Step 4a: Create Labels__"
   ]
  },
  {
   "cell_type": "code",
   "execution_count": null,
   "metadata": {
    "collapsed": true
   },
   "outputs": [],
   "source": [
    "postSections = [ section for section in db.collection_names() for post in db[section].find() ]"
   ]
  },
  {
   "cell_type": "markdown",
   "metadata": {},
   "source": [
    "__Step 4b: Train Classifier on Sparse Matrix and Labels__\n",
    "\n",
    "A <a href=\"http://scikit-learn.org/stable/modules/generated/sklearn.naive_bayes.MultinomialNB.html\">multinomial naive Bayes classifier</a> is trained on the vectorized posts stored in `X` from <a href=\"#step3a\">Step 3a</a>, and the forum-section labels stored in `postSections`."
   ]
  },
  {
   "cell_type": "code",
   "execution_count": 23,
   "metadata": {
    "collapsed": true
   },
   "outputs": [],
   "source": [
    "from sklearn.naive_bayes import MultinomialNB"
   ]
  },
  {
   "cell_type": "code",
   "execution_count": 262,
   "metadata": {
    "collapsed": false
   },
   "outputs": [],
   "source": [
    "postSectionMNB = MultinomialNB()\n",
    "postSectionMNB.fit(X, postSections)\n",
    "\n",
    "pickle.dump(postSectionMNB, open('postSectionMNB.pkl', 'wb'))"
   ]
  },
  {
   "cell_type": "markdown",
   "metadata": {},
   "source": [
    "__Step 4c: Predict Section__\n",
    "\n",
    "Once the classifier has been trained on the sections, it can be used to predict which section a user's question would be placed in.  An example user query is created and transformed by the `postTIV` vectorizer, then passed into the naive Bayes classifier."
   ]
  },
  {
   "cell_type": "code",
   "execution_count": 195,
   "metadata": {
    "collapsed": false
   },
   "outputs": [],
   "source": [
    "userQuery = '''\n",
    "            i work more than 40 hours a week but my boss wont pay me for overtime\n",
    "            '''\n",
    "userX = postTIV.transform([getTokens(userQuery)])\n",
    "\n",
    "predictedSection = postSectionMNB.predict(userX)[0]\n",
    "print \"Section: \" + predictedSection"
   ]
  },
  {
   "cell_type": "markdown",
   "metadata": {},
   "source": [
    "<hr />\n",
    "<a name=\"step5\"></a><center><b><font size='5em'>Step 5: Cosine Similarity</center>\n",
    "<hr />"
   ]
  },
  {
   "cell_type": "markdown",
   "metadata": {},
   "source": [
    "After predicting a forum-section for a user question, the __forum —> laws__ and __forum —> articles__ section mapping can be accessed from the dictionaries created in <a href=\"#step3\">Step 3</a> to find the appropriate law and article vectorizers.  Each vectorizer transforms the user question into so that it can be compared to law-section and article-section sparse matrices, respectively.\n",
    "\n",
    "Cosine similarity works by measuring the angle between two vectors.  All zero-values are skipped when measuring cosine similarity, since when the angle is $0^{\\circ}$ the vectors are directly on top of each other.  This makes cosine similarity efficient for sparse matrices, which consist primarily of zeros.\n",
    "\n",
    "The scikit-learn <a href=\"http://scikitlearn.org/stable/modules/generated/sklearn.metrics.pairwise.cosine_similarity.html\">cosine-similarity function</a> conveniently computes the cosine distances between a vector and every row in a sparse matrix."
   ]
  },
  {
   "cell_type": "code",
   "execution_count": 9,
   "metadata": {
    "collapsed": true
   },
   "outputs": [],
   "source": [
    "from sklearn.metrics.pairwise import cosine_similarity\n",
    "import numpy as np"
   ]
  },
  {
   "cell_type": "markdown",
   "metadata": {},
   "source": [
    "__Step 5a: Compute Cosine Distances Between User Question and Vectorized Articles__\n",
    "\n",
    "In this example, the forum-section for the user question has been predicted by the classifier and is stored in `predictedSection`.  The article vectorizer corresponding to this forum-section is found and used to vectorize the user question and compare it to the rows of the sparse matrix."
   ]
  },
  {
   "cell_type": "code",
   "execution_count": null,
   "metadata": {
    "collapsed": true
   },
   "outputs": [],
   "source": [
    "for c in ' /&\\\\,.:':\n",
    "    filename = predictedSection.replace(c, '')\n",
    "\n",
    "articleTIV_pkl = pickle.load(open('vectorizers/articles/' + filename + '.pkl', 'rb'))\n",
    "articleTIV = articleTIV_pkl[0]\n",
    "articleX = articleTIV_pkl[1]\n",
    "\n",
    "userX = articleTIV.transform([getTokens(userQuery)])\n",
    "relevantArticleIndices = list(np.argsort([x[0] for x in cosine_similarity(articleX, userX)])[::-1])"
   ]
  },
  {
   "cell_type": "markdown",
   "metadata": {},
   "source": [
    "The `cosine_similarity` function returns an array storing the cosine similarity between the user question and each article.  The most relevant articles will have the great values – *i.e.*, the values closest to `1` – and their indices within the array can be found using the `argsort` function from NumPy.  `argsort` takes the array and returns a list of its indices sorted by the magnitude of their values, least to greatest. \n",
    "\n",
    "The `[::-1]` is added to reverse the array and order it from greatest to least. The indices returned by `argsort` can be plugged into a list pulled from the `ARTICLES` database of all the articles used for the vectorizer.  Using these indices, the top 5 most relevant articles are located, and their titles and URLs displayed."
   ]
  },
  {
   "cell_type": "code",
   "execution_count": 10,
   "metadata": {
    "collapsed": false
   },
   "outputs": [
    {
     "ename": "NameError",
     "evalue": "name 'forumSections_to_articleSections' is not defined",
     "output_type": "error",
     "traceback": [
      "\u001b[0;31m---------------------------------------------------------------------------\u001b[0m",
      "\u001b[0;31mNameError\u001b[0m                                 Traceback (most recent call last)",
      "\u001b[0;32m<ipython-input-10-6d4af2140bd9>\u001b[0m in \u001b[0;36m<module>\u001b[0;34m()\u001b[0m\n\u001b[1;32m      1\u001b[0m \u001b[0mdb\u001b[0m \u001b[0;34m=\u001b[0m \u001b[0mclient\u001b[0m\u001b[0;34m[\u001b[0m\u001b[0;34m\"ARTICLES\"\u001b[0m\u001b[0;34m]\u001b[0m   \u001b[0;31m# Now working in the ARTICLES database\u001b[0m\u001b[0;34m\u001b[0m\u001b[0m\n\u001b[1;32m      2\u001b[0m \u001b[0;34m\u001b[0m\u001b[0m\n\u001b[0;32m----> 3\u001b[0;31m \u001b[0mtempList\u001b[0m \u001b[0;34m=\u001b[0m \u001b[0;34m[\u001b[0m \u001b[0marticle\u001b[0m \u001b[0;32mfor\u001b[0m \u001b[0marticleSection\u001b[0m \u001b[0;32min\u001b[0m \u001b[0mforumSections_to_articleSections\u001b[0m\u001b[0;34m[\u001b[0m\u001b[0mpredictedSection\u001b[0m\u001b[0;34m]\u001b[0m             \u001b[0;32mfor\u001b[0m \u001b[0marticle\u001b[0m \u001b[0;32min\u001b[0m \u001b[0mdb\u001b[0m\u001b[0;34m[\u001b[0m\u001b[0marticleSection\u001b[0m\u001b[0;34m]\u001b[0m\u001b[0;34m.\u001b[0m\u001b[0mfind\u001b[0m\u001b[0;34m(\u001b[0m\u001b[0;34m)\u001b[0m \u001b[0;34m]\u001b[0m\u001b[0;34m\u001b[0m\u001b[0m\n\u001b[0m\u001b[1;32m      4\u001b[0m \u001b[0;34m\u001b[0m\u001b[0m\n\u001b[1;32m      5\u001b[0m \u001b[0;32mfor\u001b[0m \u001b[0mi\u001b[0m \u001b[0;32min\u001b[0m \u001b[0mrelevantArticleIndices\u001b[0m\u001b[0;34m[\u001b[0m\u001b[0;34m:\u001b[0m\u001b[0;36m5\u001b[0m\u001b[0;34m]\u001b[0m\u001b[0;34m:\u001b[0m\u001b[0;34m\u001b[0m\u001b[0m\n",
      "\u001b[0;31mNameError\u001b[0m: name 'forumSections_to_articleSections' is not defined"
     ]
    }
   ],
   "source": [
    "db = client[\"ARTICLES\"]   # Now working in the ARTICLES database\n",
    "\n",
    "tempList = [ article for articleSection in forumSections_to_articleSections[predictedSection] \\\n",
    "            for article in db[articleSection].find() ]\n",
    "\n",
    "for i in relevantArticleIndices[:5]:\n",
    "    print tempList[i]['title']\n",
    "    print tempList[i]['url']\n",
    "    print"
   ]
  },
  {
   "cell_type": "markdown",
   "metadata": {},
   "source": [
    "__Step 5b: Compute Cosine Distances Between User Question and Vectorized Laws__\n",
    "\n",
    "The same process is used to compare the user question to the laws that correspond to the forum-section predicted by the classifier."
   ]
  },
  {
   "cell_type": "code",
   "execution_count": 58,
   "metadata": {
    "collapsed": false
   },
   "outputs": [
    {
     "data": {
      "text/plain": [
       "'Title 2 - LAW ENFORCEMENT PROCEDURES; ARREST PROCESS'"
      ]
     },
     "execution_count": 58,
     "metadata": {},
     "output_type": "execute_result"
    }
   ],
   "source": [
    "db = client[\"LAWS\"]   # Now working in the LAWS database\n",
    "\n",
    "state = \"NY\"   # App will need to retrieve state using geolocation; \"NY\" chosen as example\n",
    "f = open('forums_to_laws/' + state + ''.txt', 'r')\n",
    "forumSections_to_ = eval(f.read())\n",
    "\n",
    "nearestLawSects = queryToLaws[nearestSubsection][0]\n",
    "nearestLawSects"
   ]
  },
  {
   "cell_type": "code",
   "execution_count": 59,
   "metadata": {
    "collapsed": false
   },
   "outputs": [],
   "source": [
    "lawTIV_pkl = pickle.load(open('vectorizers/laws/' + userState + '/' + subsectionFilename + '.pkl', 'rb'))\n",
    "lawTIV = lawTIV_pkl[0]\n",
    "lawX = lawTIV_pkl[1]\n",
    "userX = lawTIV.transform([' '.join(getTokens(userQuery))])"
   ]
  },
  {
   "cell_type": "code",
   "execution_count": 60,
   "metadata": {
    "collapsed": true
   },
   "outputs": [],
   "source": [
    "distances = 1 - cosine_similarity(lawX, userX)\n",
    "relevantLawIndices = list(np.argsort([x[0] for x in distances]))"
   ]
  },
  {
   "cell_type": "code",
   "execution_count": 66,
   "metadata": {
    "collapsed": false
   },
   "outputs": [
    {
     "name": "stdout",
     "output_type": "stream",
     "text": [
      " MD Crim Pro Code § 2-102 (2015) What's This? (a) Scope of section. -- This section does not apply to an employee of the Department of State Police to whom the Secretary of State Police assigns the powers contained in § 2-412 of the Public Safety Article. (b) In general. --  (1) Subject to the limitations of paragraph (3) of this subsection, a police officer may make arrests, conduct investigations, and otherwise enforce the laws of the State throughout the State without limitations as to jurisdiction.  (2) This section does not authorize a police officer who acts under the authority granted by this section to enforce the Maryland Vehicle Law beyond the police officer's sworn jurisdiction, unless the officer is acting under a mutual aid agreement authorized under § 2-105 of this subtitle.  (3) A police officer may exercise the powers granted by this section when:  (i) 1. the police officer is participating in a joint investigation with officials from another state, federal, or local law enforcement unit, at least one of which has local jurisdiction;  2. the police officer is rendering assistance to another police officer;  3. the police officer is acting at the request of a police officer or State Police officer; or  4. an emergency exists; and  (ii) the police officer is acting in accordance with regulations adopted by the police officer's employing unit to carry out this section.  (4) The powers granted by this section are in addition to the powers granted by §§ 5-801, 5-802, 5-807, 5-808, and 5-901 of the Criminal Law Article and to the powers of fresh pursuit granted by Subtitle 3 of this title. (c) Required notifications. --  (1) A police officer who acts under the authority granted by this section shall notify the following persons of an investigation or enforcement action:  (i) 1. the chief of police, if any, or chief's designee, when in a municipal corporation;  2. the Police Commissioner or Police Commissioner's designee, when in Baltimore City;  3. the chief of police or chief's designee, when in a county with a county police department, except Baltimore City;  4. the sheriff or sheriff's designee, when in a county without a county police department;  5. the Secretary of Natural Resources or Secretary's designee, when on property owned, leased, operated by, or under the control of the Department of Natural Resources;  6. the chief of police of the Maryland Transportation Authority or chief's designee, when on property owned, leased, operated by, or under the control of the Maryland Transportation Authority, Maryland Aviation Administration, or Maryland Port Administration;  7. the chief of police of the Department of General Services or the chief's designee, when on property owned, leased, operated, managed, patrolled by, or under the control of the Department of General Services; and  8. the chief of police of the Maryland-National Capital Park and Planning Commission for the county in which the property is located, when on property owned, leased, or operated by or under the control of the Maryland-National Capital Park and Planning Commission; and  (ii) the Department of State Police barrack commander or commander's designee, unless there is an agreement otherwise with the Department of State Police.  (2) When the police officer participates in a joint investigation with officials from another state, federal, or local law enforcement unit, the police officer shall give the notice required under paragraph (1) of this subsection reasonably in advance. (d) Immunities and exemptions; employee status. -- A police officer who acts under the authority granted by this section:  (1) has all the immunities from liability and exemptions as a State Police officer in addition to any other immunities and exemptions to which the police officer is otherwise entitled; and  (2) remains at all times and for all purposes an employee of the employing unit. (e) Effect of section. --  (1) This section does not impair a right of arrest otherwise existing under the Code.  (2) This section does not deprive a person of the right to receive a citation for a traffic violation as provided in the Maryland Vehicle Law or a criminal violation as provided by law or the Maryland Rules.\n",
      "\n",
      " MD Crim Pro Code § 2-103 (2015) What's This? (a) \"Primary law enforcement officer\" defined. -- In this section, \"primary law enforcement officer\" means:  (1) the chief of police, if any, or the chief's designee, in a municipal corporation;  (2) the chief of police or the chief's designee in a county with a county police department;  (3) the sheriff or the sheriff's designee in a county without a police department;  (4) the Police Commissioner or the Police Commissioner's designee in Baltimore City;  (5) the Secretary of Natural Resources or the Secretary's designee on any property owned, leased, operated by, or under the control of the Department of Natural Resources;  (6) the chief of police of the Maryland Transportation Authority or chief's designee on property owned, leased, operated by, or under the control of the Maryland Aviation Administration, the Maryland Port Administration, or the Maryland Transportation Authority; or  (7) the Secretary of State Police. (b) Service of warrants. -- A police officer may arrest a person throughout the State without limitations as to jurisdiction if:  (1) a warrant has been issued against the person;  (2) the police officer is participating in a joint operation created by an agreement between the primary law enforcement officers;  (3) the arrest occurs within one of the participating jurisdictions in accordance with the agreement; and  (4) the police officer is acting in accordance with regulations that the police officer's employing unit adopts to carry out this section. (c) Immunities and status of police officer. -- A police officer who acts under the authority granted by this section:  (1) has all the immunities from liability and exemptions as a State Police officer in addition to any other immunities and exemptions to which the police officer is otherwise entitled; and  (2) remains at all times and for all purposes an employee of the employing unit.\n",
      "\n",
      " MD Crim Pro Code § 2-104 (2015) What's This? (a) \"Federal law enforcement officer\" defined. -- In this section, \"federal law enforcement officer\" means an officer who may:  (1) make an arrest with or without a warrant for violations of the United States Code; and  (2) carry firearms in the performance of the officer's duties. (b) In general. --  (1) Subject to the limitations of paragraph (2) of this subsection, a federal law enforcement officer may:  (i) make arrests as set forth in Subtitle 2 of this title; and  (ii) execute arrest and search and seizure warrants issued under the laws of the State.  (2) A federal law enforcement officer may exercise the powers granted by this subsection when:  (i) the federal law enforcement officer is participating in a joint investigation with officials from a State or local law enforcement unit;  (ii) the federal law enforcement officer is rendering assistance to a police officer;  (iii) the federal law enforcement officer is acting at the request of a local police officer or State Police officer; or  (iv) an emergency exists. (c) Required notifications. --  (1) A federal law enforcement officer who acts under the authority granted by this section shall notify the following persons of an investigation or enforcement action:  (i) 1. the chief of police, if any, or chief's designee, when in a municipal corporation;  2. the police commissioner or police commissioner's designee, when in Baltimore City;  3. the chief of police or chief's designee, when in a county with a county police department, except Baltimore City;  4. the sheriff or sheriff's designee, when in a county without a county police department;  5. the Secretary of Natural Resources or Secretary's designee, when on property owned, leased, operated by, or under the control of the Department of Natural Resources; or  6. the chief of police of the Maryland Transportation Authority or chief's designee, when on property owned, leased, operated by, or under the control of the Maryland Transportation Authority, Maryland Aviation Administration, or Maryland Port Administration; and  (ii) the Department of State Police barrack commander or commander's designee, unless there is an agreement otherwise with the Department of State Police.  (2) When the federal law enforcement officer participates in a joint investigation with officials from a State or local law enforcement unit, the federal law enforcement officer shall give the notice required under paragraph (1) of this subsection reasonably in advance. (d) Legal status; immunity from liability. -- A federal law enforcement officer who acts under the authority granted by this section:  (1) has the same legal status as a police officer;  (2) has the same protections as a police officer under § 2-608 of the Courts Article with regard to charging documents against police officers; and  (3) has the same immunity from liability described in § 5-611 of the Courts Article. (e) Effect of section. -- This section does not impose liability on or require indemnification by the State or a local subdivision for an act performed by a federal law enforcement officer under this section.\n",
      "\n",
      " MD Crim Pro Code § 2-101 (2015) What's This? (a) In general. -- In this title the following words have the meanings indicated. ** REVISOR'S NOTE  This subsection is new language derived without substantive change from former Art. 27, § 594B(h)(1)(i) and (m)(1)(i). ** REVISOR'S NOTE  The reference to \"title\" is substituted for the former reference to \"subsection\" because the definitions in this section are used throughout this title. (b) Emergency. -- \"Emergency\" means a sudden or unexpected happening or an unforeseen combination of circumstances that calls for immediate action to protect the health, safety, welfare, or property of a person from actual or threatened harm or from an unlawful act. ** REVISOR'S NOTE  This subsection is new language derived without substantive change from former Art. 27, § 594B(h)(1)(ii) and (m)(1)(ii). ** REVISOR'S NOTE  The reference to a \"person\" is substituted for the former reference to an \"individual\" to conform to the terminology used throughout this article. ** DEFINED TERM:   \"Person\" § 1-101  ** (c) Police officer. -- \"Police officer\" means a person who in an official capacity is authorized by law to make arrests and is: **  (1) a member of the Department of State Police; **  (2) a member of the Police Department of Baltimore City; **  (3) a member of the Baltimore City School Police Force; **  (4) a member of the police department, bureau, or force of a county; **  (5) a member of the police department, bureau, or force of a municipal corporation; **  (6) a member of the Maryland Transit Administration Police Force or Maryland Transportation Authority Police Force; **  (7) a member of the University of Maryland Police Force or Morgan State University Police Force; **  (8) a special police officer who is appointed to enforce the law and maintain order on or protect property of the State or any of its units; **  (9) a member of the Maryland Capitol Police of the Department of General Services; **  (10) the sheriff of a county whose usual duties include the making of arrests; **  (11) a regularly employed deputy sheriff of a county who is compensated by the county and whose usual duties include the making of arrests; **  (12) a member of the Natural Resources Police Force of the Department of Natural Resources; **  (13) an authorized employee of the Field Enforcement Bureau of the Comptroller's Office; **  (14) a member of the Maryland-National Capital Park and Planning Commission Park Police; **  (15) a member of the Housing Authority of Baltimore City Police Force; **  (16) a member of the Crofton Police Department; **  (17) a member of the WMATA Metro Transit Police, subject to the jurisdictional limitations under Article XVI, § 76 of the Washington Metropolitan Area Transit Authority Compact, which is codified at § 10-204 of the Transportation Article; **  (18) a member of the Intelligence and Investigative Division of the Department; **  (19) a member of the State Forest and Park Service Police Force of the Department of Natural Resources; **  (20) a member of the Department of Labor, Licensing, and Regulation Police Force; **  (21) a member of the Washington Suburban Sanitary Commission Police Force; **  (22) a member of the Ocean Pines Police Department; **  (23) a member of the police force of the Baltimore City Community College; **  (24) a member of the police force of the Hagerstown Community College; **  (25) an employee of the Warrant Apprehension Unit of the Division of Parole and Probation in the Department; or **  (26) a member of the police force of the Anne Arundel Community College.\n",
      "\n",
      " MD Crim Pro Code § 2-202 (2015) What's This? (a) Crimes committed in presence of police officer. -- A police officer may arrest without a warrant a person who commits or attempts to commit a felony or misdemeanor in the presence or within the view of the police officer. (b) Probable cause to believe crime committed in presence of officer. -- A police officer who has probable cause to believe that a felony or misdemeanor is being committed in the presence or within the view of the police officer may arrest without a warrant any person whom the police officer reasonably believes to have committed the crime. (c) Probable cause to believe felony committed. -- A police officer without a warrant may arrest a person if the police officer has probable cause to believe that a felony has been committed or attempted and the person has committed or attempted to commit the felony whether or not in the presence or within the view of the police officer.\n",
      "\n"
     ]
    }
   ],
   "source": [
    "#   Search within the predicted state statutes sections for most relevant laws\n",
    "\n",
    "userState = \"MD\"\n",
    "db = client[\"LAWS\"]\n",
    "tempLawList, tempSectionList = [], []\n",
    "\n",
    "for lawSection in queryToLaws[nearestSubsection]:\n",
    "    for law in db[userState].find({ 'section':lawSection }):\n",
    "        tempLawList.append(law['text'])\n",
    "        tempSectionList.append(law['section'])\n",
    "\n",
    "        \n",
    "nearestLaws = [ (tempLawList[x], tempSectionList[x][-1:]) for x in relevantLawIndices[:5] ]\n",
    "\n",
    "for x in nearestLaws:\n",
    "    print x[0]\n",
    "    print"
   ]
  },
  {
   "cell_type": "code",
   "execution_count": 112,
   "metadata": {
    "collapsed": true
   },
   "outputs": [],
   "source": [
    "states = ({'AK': 'Alaska', 'AL': 'Alabama', 'AR': 'Arkansas', 'AS': 'American Samoa', 'AZ': 'Arizona',\n",
    "    'CA': 'California', 'CO': 'Colorado', 'CT': 'Connecticut', 'DC': 'District of Columbia', 'DE': 'Delaware',\n",
    "    'FL': 'Florida', 'GA': 'Georgia', 'GU': 'Guam', 'HI': 'Hawaii', 'IA': 'Iowa', 'ID': 'Idaho', 'IL': 'Illinois',\n",
    "    'IN': 'Indiana', 'KS': 'Kansas', 'KY': 'Kentucky', 'LA': 'Louisiana', 'MA': 'Massachusetts', 'MD': 'Maryland', 'ME': 'Maine',\n",
    "    'MI': 'Michigan', 'MN': 'Minnesota', 'MO': 'Missouri', 'MP': 'Northern Mariana Islands', 'MS': 'Mississippi',\n",
    "    'MT': 'Montana', 'NA': 'National', 'NC': 'North Carolina', 'ND': 'North Dakota', 'NE': 'Nebraska',\n",
    "    'NH': 'New Hampshire', 'NJ': 'New Jersey', 'NM': 'New Mexico', 'NV': 'Nevada', 'NY': 'New York', 'OH': 'Ohio',\n",
    "    'OK': 'Oklahoma', 'OR': 'Oregon', 'PA': 'Pennsylvania', 'PR': 'Puerto Rico', 'RI': 'Rhode Island',\n",
    "    'SC': 'South Carolina', 'SD': 'South Dakota', 'TN': 'Tennessee', 'TX': 'Texas', 'UT': 'Utah', 'VA': 'Virginia',\n",
    "    'VI': 'Virgin Islands', 'VT': 'Vermont', 'WA': 'Washington', 'WI': 'Wisconsin', 'WV': 'West Virginia', 'WY': 'Wyoming'})"
   ]
  },
  {
   "cell_type": "code",
   "execution_count": 118,
   "metadata": {
    "collapsed": false
   },
   "outputs": [
    {
     "name": "stdout",
     "output_type": "stream",
     "text": [
      "DUI Laws in Florida | Nolo.com\n",
      "DUI Laws in Kentucky | Nolo.com\n",
      "DUI Laws in Colorado | Nolo.com\n",
      "Pennsylvania DUI Laws | Nolo.com\n",
      "California DUI Law | Nolo.com\n",
      "Illinois DUI Law | Nolo.com\n",
      "DUI Laws in Maryland | Nolo.com\n",
      "DUI Laws in Vermont | Nolo.com\n",
      "DUI Laws in Connecticut | Nolo.com\n",
      "DUI Laws in Washington | Nolo.com\n",
      "DUI Laws in Delaware | Nolo.com\n",
      "DUI Laws in Kansas | Nolo.com\n",
      "DUI Laws in Virginia | Nolo.com\n",
      "DUI Laws in Utah | Nolo.com\n",
      "DUI Laws in Tennessee | Nolo.com\n",
      "DUI Laws in Mississippi | Nolo.com\n",
      "Georgia DUI Law | Nolo.com\n",
      "DUI Laws in Hawaii | Nolo.com\n",
      "DUI Laws in Alabama | Nolo.com\n",
      "DUI Laws in Arizona | Nolo.com\n",
      "DUI Laws in Nevada | Nolo.com\n",
      "DUI Laws in Montana | Nolo.com\n",
      "DUI Laws in Oklahoma | Nolo.com\n",
      "DUI Laws in Ohio | Nolo.com\n",
      "DUI Laws in New Hampshire | Nolo.com\n"
     ]
    },
    {
     "data": {
      "text/plain": [
       "[u'DUI Laws in Maryland | Nolo.com',\n",
       " (u'DUIs: When Do You Need a Lawyer?',\n",
       "  u'http://www.nolo.com/legal-encyclopedia/free-books/beat-ticket-book/chapter8-5.html'),\n",
       " (u'DUI and DWI Defenses',\n",
       "  u'http://www.nolo.com/legal-encyclopedia/dui-dwi-defenses-32254.html'),\n",
       " (u'Should You Plead Guilty to a DUI?',\n",
       "  u'http://www.nolo.com/legal-encyclopedia/free-books/beat-ticket-book/chapter8-7.html'),\n",
       " (u\"DUI or DWI Penalties: Jail Time, Driver's License Issues, Fines & More\",\n",
       "  u'http://www.nolo.com/legal-encyclopedia/dui-or-dwi-punishments-penalties-30321.html')]"
      ]
     },
     "execution_count": 118,
     "metadata": {},
     "output_type": "execute_result"
    }
   ],
   "source": [
    "#   Search within the predicted Encyclopaedia category for most relevant articles\n",
    "\n",
    "userState = \"Maryland\"\n",
    "nearestArticles = []\n",
    "\n",
    "db = client[\"ARTICLES\"]\n",
    "tempList = [ x for x in db[nearestArtSect].find() ]\n",
    "\n",
    "\n",
    "for article in [ x for x in db[nearestArtSect].find() ][:50]:\n",
    "    if userState in article['title']:\n",
    "        nearestArticles.append((article['title'], article['url']))\n",
    "        continue\n",
    "\n",
    "for i in relevantArticleIndices:\n",
    "    if any(state in tempList[i]['title'] for state in states.values()):\n",
    "        print tempList[i]['title']\n",
    "        continue\n",
    "\n",
    "    nearestArticles.append((tempList[i]['title'][:-11], tempList[i]['url']))\n",
    "    \n",
    "    if len(nearestArticles) == 5:\n",
    "        break\n",
    "\n",
    "nearestArticles"
   ]
  }
 ],
 "metadata": {
  "kernelspec": {
   "display_name": "Python 2",
   "language": "python",
   "name": "python2"
  },
  "language_info": {
   "codemirror_mode": {
    "name": "ipython",
    "version": 2
   },
   "file_extension": ".py",
   "mimetype": "text/x-python",
   "name": "python",
   "nbconvert_exporter": "python",
   "pygments_lexer": "ipython2",
   "version": "2.7.12"
  }
 },
 "nbformat": 4,
 "nbformat_minor": 0
}
